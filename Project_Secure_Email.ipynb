{
  "cells": [
    {
      "cell_type": "markdown",
      "metadata": {
        "id": "view-in-github",
        "colab_type": "text"
      },
      "source": [
        "<a href=\"https://colab.research.google.com/github/kartikkmehta/Project-Secure-Email/blob/main/Project_Secure_Email.ipynb\" target=\"_parent\"><img src=\"https://colab.research.google.com/assets/colab-badge.svg\" alt=\"Open In Colab\"/></a>"
      ]
    },
    {
      "cell_type": "markdown",
      "source": [
        "# Secure Email and OTP Verification System\n",
        "\n",
        "Welcome to the Secure Email and OTP Verification System project! This application is designed to provide a robust solution for user authentication and password recovery using One-Time Passwords (OTPs). The system leverages modern communication technologies to ensure secure and reliable user interactions.\n",
        "\n",
        "Project Overview\n",
        "In today’s digital age, ensuring the security of user accounts is paramount. This project integrates both SMS and email verification methods to enhance the security of user accounts. Utilizing Twilio for SMS and SendGrid for email, the system provides a seamless and secure experience for users needing to verify their identity or reset their passwords.\n",
        "\n",
        "\n"
      ],
      "metadata": {
        "id": "J70eWePhYdW-"
      }
    },
    {
      "cell_type": "markdown",
      "source": [
        "#Technical Stack\n",
        "\n",
        "**Backend:** Python\n",
        "\n",
        "**SMS Service:** Twilio\n",
        "\n",
        "**Email Service:** SendGrid\n",
        "\n",
        "**Data Storage:** Local file-based storage for user details"
      ],
      "metadata": {
        "id": "lWWscbvpZ3AU"
      }
    },
    {
      "cell_type": "markdown",
      "source": [
        "#Key Features\n",
        "\n",
        "**User Signup:** Allows users to create accounts with their details, including ***name, age, mobile number, and email.***\n",
        "User Signin: Enables users to securely log in to their accounts using their credentials.\n",
        "\n",
        "\n",
        "**Password Recovery:** Offers two methods for OTP-based password ***recovery—via SMS or email—providing flexibility and convenience.***\n",
        "OTP Generation and Verification: Generates a one-time password (OTP) for user verification and securely handles OTP verification for password resets."
      ],
      "metadata": {
        "id": "Bsc1idw0ZCWC"
      }
    },
    {
      "cell_type": "code",
      "execution_count": null,
      "metadata": {
        "id": "YPPEijMjNXxF"
      },
      "outputs": [],
      "source": [
        "def signup():\n",
        "    print(\"Enter your details\")\n",
        "    name = input(\"Name: \")\n",
        "    while True:\n",
        "        try:\n",
        "            age = int(input(\"Age: \"))\n",
        "            break\n",
        "        except ValueError:\n",
        "            print(\"Invalid age, please enter a number.\")\n",
        "\n",
        "    while True:\n",
        "        try:\n",
        "            no = int(input(\"Mobile number: \"))\n",
        "            break\n",
        "        except ValueError:\n",
        "            print(\"Invalid mobile number, please enter a number.\")\n",
        "\n",
        "    email = input(\"Email: \")\n",
        "\n",
        "    while True:\n",
        "        try:\n",
        "            username = input(\"Username: \")\n",
        "            f = open(username, 'r')\n",
        "            print(\"This username is already taken\\nTry a new username\")\n",
        "        except FileNotFoundError:\n",
        "            password = input(\"Password: \")\n",
        "            with open(username, 'w') as f:\n",
        "                f.write(username + '\\n')\n",
        "                f.write(str(no) + '\\n')\n",
        "                f.write(email + '\\n')\n",
        "                f.write(name + '\\n')\n",
        "                f.write(str(age) + '\\n')\n",
        "                f.write(password + '\\n')\n",
        "            print(\"Thanks for Signup\")\n",
        "            break\n",
        "\n",
        "\n"
      ]
    },
    {
      "cell_type": "code",
      "execution_count": null,
      "metadata": {
        "id": "wyZGjCWpNt0b"
      },
      "outputs": [],
      "source": [
        "def signin() :\n",
        "    while 1:\n",
        "        try :\n",
        "            username=input(\"Enter your username \")\n",
        "            f=open(username,'r')\n",
        "            penter=input(\"Enter your password \")\n",
        "            password = f.readlines()\n",
        "            if penter == password[-1].strip() :\n",
        "                print(\"Welcome \")\n",
        "                f.close()\n",
        "                break\n",
        "            else:\n",
        "                print(\"Password doesnot match\")\n",
        "                while 1:\n",
        "                    penter=input(\"Enter your password \")\n",
        "                    if penter == password[-1] :\n",
        "                        print(\"Welcome \")\n",
        "                        f.close()\n",
        "                        break\n",
        "                    else:\n",
        "                        print(\"Password doesnot match\")\n",
        "                break\n",
        "        except FileNotFoundError :\n",
        "                print(\"This username doesnot exist\")"
      ]
    },
    {
      "cell_type": "code",
      "execution_count": null,
      "metadata": {
        "collapsed": true,
        "id": "rREL4hPyN31-"
      },
      "outputs": [],
      "source": [
        "!pip install twilio"
      ]
    },
    {
      "cell_type": "code",
      "execution_count": null,
      "metadata": {
        "id": "at481z-5gC4J"
      },
      "outputs": [],
      "source": [
        "!pip install sendgrid\n"
      ]
    },
    {
      "cell_type": "code",
      "source": [
        "import random\n",
        "from twilio.rest import Client\n",
        "from sendgrid import SendGridAPIClient\n",
        "from sendgrid.helpers.mail import Mail\n",
        "import os\n",
        "\n",
        "def send_otp_email(otp, recipient_email):\n",
        "    api_key = 'enter your sendgrid apikey here '\n",
        "    message = Mail(\n",
        "        from_email='kartikkmehtaa@gmail.com',\n",
        "        to_emails=recipient_email,\n",
        "        subject='Your OTP Code',\n",
        "        plain_text_content=f'Your OTP is: {otp}')\n",
        "    try:\n",
        "        sg = SendGridAPIClient(api_key)\n",
        "        response = sg.send(message)\n",
        "        print(f\"OTP sent to email: {recipient_email}\")\n",
        "    except Exception as e:\n",
        "        print(f\"Failed to send email: {str(e)}\")\n",
        "\n",
        "def forgot():\n",
        "    while True:\n",
        "        try:\n",
        "            username = input(\"Enter your username: \")\n",
        "            with open(username, 'r') as f:\n",
        "                password = f.readlines()\n",
        "                no = password[1].strip()\n",
        "                email = password[2].strip()\n",
        "                no = '+1' + str(no)\n",
        "\n",
        "                print(\"Press 1 to reset via Phone Number\")\n",
        "                print(\"Press 2 to reset via Email\")\n",
        "                method = int(input(\"Enter your choice: \"))\n",
        "\n",
        "                c = random.randrange(1000, 9999)\n",
        "                c = str(c)\n",
        "\n",
        "                if method == 1:\n",
        "                    account_sid = 'enter your twilio account sid '\n",
        "                    auth_token = 'enter twilio auth token'\n",
        "                    client = Client(account_sid, auth_token)\n",
        "                    message = client.messages.create(\n",
        "                        body='The auto-generated OTP is ' + c,\n",
        "                        from_='+12494967448',\n",
        "                        to=no\n",
        "                    )\n",
        "                    print(f\"OTP sent to phone number: {no}\")\n",
        "                elif method == 2:\n",
        "                    send_otp_email(c, email)\n",
        "                else:\n",
        "                    print(\"Invalid choice. Try again.\")\n",
        "                    continue\n",
        "\n",
        "                otpenter = input(\"Enter the OTP: \")\n",
        "\n",
        "                if c == otpenter:\n",
        "                    newp1 = input(\"Enter new password: \")\n",
        "                    newp2 = input(\"Confirm password: \")\n",
        "                    if newp1 == newp2:\n",
        "                        with open(username, 'w') as f:\n",
        "                            for i in password[:-1]:\n",
        "                                f.write(i)\n",
        "                            f.write(newp1 + '\\n')\n",
        "                        print(\"Password has been updated.\")\n",
        "                    break\n",
        "                else:\n",
        "                    print(\"OTP does not match.\")\n",
        "        except FileNotFoundError:\n",
        "            print(\"This username does not exist.\")\n"
      ],
      "metadata": {
        "id": "HJBqTjXJM31f"
      },
      "execution_count": null,
      "outputs": []
    },
    {
      "cell_type": "code",
      "execution_count": null,
      "metadata": {
        "colab": {
          "base_uri": "https://localhost:8080/"
        },
        "id": "r4tfS3OqPzxN",
        "outputId": "9aec7d21-f4f6-434c-8731-9d9d20dc0eac"
      },
      "outputs": [
        {
          "output_type": "stream",
          "name": "stdout",
          "text": [
            "Press 1 for Signup\n",
            "Press 2 for Signin\n",
            "Press 3 if you forgot password\n",
            "Press 4 to exit \n"
          ]
        }
      ],
      "source": [
        "print(\"Press 1 for Signup\")\n",
        "print(\"Press 2 for Signin\")\n",
        "print(\"Press 3 if you forgot password\")\n",
        "print(\"Press 4 to exit \")\n",
        "def work() :\n",
        "    while 1 :\n",
        "        choice =int(input(\"Enter your choice \"))\n",
        "        if choice == 1 :\n",
        "            signup()\n",
        "        elif choice == 2 :\n",
        "            signin()\n",
        "        elif choice == 3 :\n",
        "            forgot()\n",
        "        elif choice == 4:\n",
        "            break\n",
        "        else:\n",
        "            print(\"Wrong Choice, Try again \")\n",
        "    print(\"Thanks for using our software\")"
      ]
    },
    {
      "cell_type": "code",
      "execution_count": null,
      "metadata": {
        "colab": {
          "base_uri": "https://localhost:8080/"
        },
        "id": "yVEBKUlUP2hx",
        "outputId": "e2a6e71d-1ba6-4f75-9749-c7f1035f63a8"
      },
      "outputs": [
        {
          "output_type": "stream",
          "name": "stdout",
          "text": [
            "Enter your choice 4\n",
            "Thanks for using our software\n"
          ]
        }
      ],
      "source": [
        "def check():\n",
        "    try :\n",
        "        work()\n",
        "    except ValueError:\n",
        "        print(\"Invalid entry, Try again\")\n",
        "        check()\n",
        "check()"
      ]
    }
  ],
  "metadata": {
    "colab": {
      "provenance": [],
      "authorship_tag": "ABX9TyOZdfOSoQT2t9KODfnyRJog",
      "include_colab_link": true
    },
    "kernelspec": {
      "display_name": "Python 3",
      "name": "python3"
    },
    "language_info": {
      "name": "python"
    }
  },
  "nbformat": 4,
  "nbformat_minor": 0
}